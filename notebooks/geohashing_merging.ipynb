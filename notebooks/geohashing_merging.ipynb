{
 "cells": [
  {
   "cell_type": "markdown",
   "metadata": {},
   "source": [
    "# Geohashing the map and merging"
   ]
  },
  {
   "cell_type": "markdown",
   "metadata": {},
   "source": [
    "\n",
    "-5 et 10 en longitude\n",
    "42 et 52 en latitude\n"
   ]
  },
  {
   "cell_type": "code",
   "execution_count": 42,
   "metadata": {},
   "outputs": [],
   "source": [
    "import numpy as np\n",
    "import pandas as pd"
   ]
  },
  {
   "cell_type": "code",
   "execution_count": 81,
   "metadata": {},
   "outputs": [],
   "source": [
    "increment = 0.01\n",
    "lat_start = 42\n",
    "lat_end = 52\n",
    "lon_start = -5\n",
    "lon_end = 10\n",
    "threshold = 5\n",
    "# lon = lon_start\n",
    "# lat = lat_start\n",
    "cell_list=[]\n",
    "x=lon_start\n",
    "y=lat_start\n",
    "index_x=0\n",
    "index_y=0\n",
    "for index_y in range(int((lat_end-lat_start)/increment)):\n",
    "    for index_x in range(int((lon_end-lon_start)/increment)):\n",
    "        cell_list.append(f'{index_x}_{index_y}')\n",
    "    index_x=0"
   ]
  },
  {
   "cell_type": "code",
   "execution_count": 82,
   "metadata": {},
   "outputs": [
    {
     "data": {
      "text/plain": [
       "(1500000,)"
      ]
     },
     "execution_count": 82,
     "metadata": {},
     "output_type": "execute_result"
    }
   ],
   "source": [
    "cell_np=np.array(cell_list)\n",
    "cell_np.shape"
   ]
  },
  {
   "cell_type": "code",
   "execution_count": 85,
   "metadata": {},
   "outputs": [],
   "source": [
    "def load_sample_csv(path:str) ->pd.DataFrame:\n",
    "    df_sample_csv=pd.read_csv(path)\n",
    "    df_sample_csv['cellid']='_'\n",
    "    df_sample_csv['count']=1\n",
    "    df_sample_csv['zoom']=1\n",
    "    return df_sample_csv\n",
    "\n",
    "df_sample_csv=load_sample_csv('../00-data/data_csv/meta_shard_0.csv')"
   ]
  },
  {
   "cell_type": "code",
   "execution_count": 86,
   "metadata": {},
   "outputs": [
    {
     "data": {
      "text/html": [
       "<div>\n",
       "<style scoped>\n",
       "    .dataframe tbody tr th:only-of-type {\n",
       "        vertical-align: middle;\n",
       "    }\n",
       "\n",
       "    .dataframe tbody tr th {\n",
       "        vertical-align: top;\n",
       "    }\n",
       "\n",
       "    .dataframe thead th {\n",
       "        text-align: right;\n",
       "    }\n",
       "</style>\n",
       "<table border=\"1\" class=\"dataframe\">\n",
       "  <thead>\n",
       "    <tr style=\"text-align: right;\">\n",
       "      <th></th>\n",
       "      <th>img</th>\n",
       "      <th>lat</th>\n",
       "      <th>lon</th>\n",
       "      <th>data</th>\n",
       "      <th>cellid</th>\n",
       "      <th>count</th>\n",
       "      <th>zoom</th>\n",
       "    </tr>\n",
       "  </thead>\n",
       "  <tbody>\n",
       "    <tr>\n",
       "      <th>0</th>\n",
       "      <td>a6_c4_3038144879.jpg</td>\n",
       "      <td>48.857599</td>\n",
       "      <td>2.337684</td>\n",
       "      <td>ffd8ffe000104a46494600010100000100010000ffdb00...</td>\n",
       "      <td>_</td>\n",
       "      <td>1</td>\n",
       "      <td>1</td>\n",
       "    </tr>\n",
       "    <tr>\n",
       "      <th>1</th>\n",
       "      <td>a7_00_2633379373.jpg</td>\n",
       "      <td>45.875802</td>\n",
       "      <td>0.175330</td>\n",
       "      <td>ffd8ffe000104a46494600010100000100010000ffdb00...</td>\n",
       "      <td>_</td>\n",
       "      <td>1</td>\n",
       "      <td>1</td>\n",
       "    </tr>\n",
       "    <tr>\n",
       "      <th>2</th>\n",
       "      <td>03_2e_4493999629.jpg</td>\n",
       "      <td>50.940437</td>\n",
       "      <td>6.870537</td>\n",
       "      <td>ffd8ffe000104a46494600010100000100010000ffdb00...</td>\n",
       "      <td>_</td>\n",
       "      <td>1</td>\n",
       "      <td>1</td>\n",
       "    </tr>\n",
       "    <tr>\n",
       "      <th>3</th>\n",
       "      <td>c6_12_3073882997.jpg</td>\n",
       "      <td>51.493608</td>\n",
       "      <td>7.451820</td>\n",
       "      <td>ffd8ffe000104a46494600010100000100010000ffdb00...</td>\n",
       "      <td>_</td>\n",
       "      <td>1</td>\n",
       "      <td>1</td>\n",
       "    </tr>\n",
       "    <tr>\n",
       "      <th>4</th>\n",
       "      <td>0d_1d_3586372001.jpg</td>\n",
       "      <td>43.909642</td>\n",
       "      <td>5.197563</td>\n",
       "      <td>ffd8ffe000104a46494600010100000100010000ffdb00...</td>\n",
       "      <td>_</td>\n",
       "      <td>1</td>\n",
       "      <td>1</td>\n",
       "    </tr>\n",
       "    <tr>\n",
       "      <th>...</th>\n",
       "      <td>...</td>\n",
       "      <td>...</td>\n",
       "      <td>...</td>\n",
       "      <td>...</td>\n",
       "      <td>...</td>\n",
       "      <td>...</td>\n",
       "      <td>...</td>\n",
       "    </tr>\n",
       "    <tr>\n",
       "      <th>4703</th>\n",
       "      <td>ac_a1_4171737184.jpg</td>\n",
       "      <td>51.635791</td>\n",
       "      <td>-0.106115</td>\n",
       "      <td>ffd8ffe000104a46494600010100000100010000ffdb00...</td>\n",
       "      <td>_</td>\n",
       "      <td>1</td>\n",
       "      <td>1</td>\n",
       "    </tr>\n",
       "    <tr>\n",
       "      <th>4704</th>\n",
       "      <td>07_a4_4360452150.jpg</td>\n",
       "      <td>49.076782</td>\n",
       "      <td>2.179498</td>\n",
       "      <td>ffd8ffe000104a46494600010100000100010000ffdb00...</td>\n",
       "      <td>_</td>\n",
       "      <td>1</td>\n",
       "      <td>1</td>\n",
       "    </tr>\n",
       "    <tr>\n",
       "      <th>4705</th>\n",
       "      <td>78_76_3676267394.jpg</td>\n",
       "      <td>51.910622</td>\n",
       "      <td>4.473302</td>\n",
       "      <td>ffd8ffe000104a46494600010100000100010000ffdb00...</td>\n",
       "      <td>_</td>\n",
       "      <td>1</td>\n",
       "      <td>1</td>\n",
       "    </tr>\n",
       "    <tr>\n",
       "      <th>4706</th>\n",
       "      <td>34_6c_6424789109.jpg</td>\n",
       "      <td>44.755144</td>\n",
       "      <td>5.332853</td>\n",
       "      <td>ffd8ffe000104a46494600010100000100010000ffdb00...</td>\n",
       "      <td>_</td>\n",
       "      <td>1</td>\n",
       "      <td>1</td>\n",
       "    </tr>\n",
       "    <tr>\n",
       "      <th>4707</th>\n",
       "      <td>2b_ba_2806492503.jpg</td>\n",
       "      <td>50.727260</td>\n",
       "      <td>-1.864371</td>\n",
       "      <td>ffd8ffe000104a46494600010100000100010000ffdb00...</td>\n",
       "      <td>_</td>\n",
       "      <td>1</td>\n",
       "      <td>1</td>\n",
       "    </tr>\n",
       "  </tbody>\n",
       "</table>\n",
       "<p>4708 rows × 7 columns</p>\n",
       "</div>"
      ],
      "text/plain": [
       "                       img        lat       lon  \\\n",
       "0     a6_c4_3038144879.jpg  48.857599  2.337684   \n",
       "1     a7_00_2633379373.jpg  45.875802  0.175330   \n",
       "2     03_2e_4493999629.jpg  50.940437  6.870537   \n",
       "3     c6_12_3073882997.jpg  51.493608  7.451820   \n",
       "4     0d_1d_3586372001.jpg  43.909642  5.197563   \n",
       "...                    ...        ...       ...   \n",
       "4703  ac_a1_4171737184.jpg  51.635791 -0.106115   \n",
       "4704  07_a4_4360452150.jpg  49.076782  2.179498   \n",
       "4705  78_76_3676267394.jpg  51.910622  4.473302   \n",
       "4706  34_6c_6424789109.jpg  44.755144  5.332853   \n",
       "4707  2b_ba_2806492503.jpg  50.727260 -1.864371   \n",
       "\n",
       "                                                   data cellid  count  zoom  \n",
       "0     ffd8ffe000104a46494600010100000100010000ffdb00...      _      1     1  \n",
       "1     ffd8ffe000104a46494600010100000100010000ffdb00...      _      1     1  \n",
       "2     ffd8ffe000104a46494600010100000100010000ffdb00...      _      1     1  \n",
       "3     ffd8ffe000104a46494600010100000100010000ffdb00...      _      1     1  \n",
       "4     ffd8ffe000104a46494600010100000100010000ffdb00...      _      1     1  \n",
       "...                                                 ...    ...    ...   ...  \n",
       "4703  ffd8ffe000104a46494600010100000100010000ffdb00...      _      1     1  \n",
       "4704  ffd8ffe000104a46494600010100000100010000ffdb00...      _      1     1  \n",
       "4705  ffd8ffe000104a46494600010100000100010000ffdb00...      _      1     1  \n",
       "4706  ffd8ffe000104a46494600010100000100010000ffdb00...      _      1     1  \n",
       "4707  ffd8ffe000104a46494600010100000100010000ffdb00...      _      1     1  \n",
       "\n",
       "[4708 rows x 7 columns]"
      ]
     },
     "execution_count": 86,
     "metadata": {},
     "output_type": "execute_result"
    }
   ],
   "source": [
    "df_sample_csv"
   ]
  },
  {
   "cell_type": "code",
   "execution_count": 83,
   "metadata": {},
   "outputs": [
    {
     "ename": "SyntaxError",
     "evalue": "closing parenthesis ']' does not match opening parenthesis '(' on line 8 (639562120.py, line 10)",
     "output_type": "error",
     "traceback": [
      "\u001b[0;36m  Cell \u001b[0;32mIn[83], line 10\u001b[0;36m\u001b[0m\n\u001b[0;31m    (df_sample_csv.lon<round(lon+increment,2))])<threshold:\u001b[0m\n\u001b[0m                                              ^\u001b[0m\n\u001b[0;31mSyntaxError\u001b[0m\u001b[0;31m:\u001b[0m closing parenthesis ']' does not match opening parenthesis '(' on line 8\n"
     ]
    }
   ],
   "source": [
    "lon=lon_start\n",
    "lat=lat_start\n",
    "\n",
    "# Unfinished worked to create a hashing and check that each cell contains enough photos\n",
    "\n",
    "for index_y in range(int((lat_end-lat_start)/increment)):\n",
    "    for index_x in range(int((lon_end-lon_start)/increment)):\n",
    "        if f'{index_x}_{index_y}' in cell_np:\n",
    "            cell_np = np.delete(cell_np, np.where(cell_np == f'{x}_{y}'))\n",
    "            if len(df_sample_csv[(df_sample_csv.lat>lat) & \n",
    "                                (df_sample_csv.lat<round(lat+increment,2) & \n",
    "                                (df_sample_csv.lon>lon) & \n",
    "                                (df_sample_csv.lon<round(lon+increment,2))])<threshold:\n",
    "                if len(df_sample_csv[(df_sample_csv.lat>lat) & \n",
    "                                (df_sample_csv.lat<round(lat+2*increment,2)) & \n",
    "                                (df_sample_csv.lon>lon) & \n",
    "                                (df_sample_csv.lon<round(lon+increment,2)])<threshold:\n",
    "                    if len(df_sample_csv[(df_sample_csv.lat>lat) & \n",
    "                                    (df_sample_csv.lat<round(lat+2*increment,2)) & \n",
    "                                    (df_sample_csv.lon>lon) & \n",
    "                                    (df_sample_csv.lon<round(lon+2*increment,2)])<threshold:\n",
    "                    \n",
    "                    y+=1\n",
    "                    lat+=increment\n",
    "                    index=index+f'{x}_{y}'\n",
    "            else:\n",
    "                name = nam\n",
    "                next"
   ]
  },
  {
   "cell_type": "code",
   "execution_count": null,
   "metadata": {},
   "outputs": [],
   "source": [
    "          \n",
    "increment=1\n",
    "df_sample_csv[(df_sample_csv.lat>lat_start) & (df_sample_csv.lat<lat_start+increment) & (df_sample_csv.lon>lon_start) & (df_sample_csv.lon<lon_start+increment)]\n",
    "df_sample_csv[(df_sample_csv.lat>lat_start) & (df_sample_csv.lat<lat_start+2*increment) & (df_sample_csv.lon>lon_start) & (df_sample_csv.lon<lon_start+increment)]\n",
    "len(df_sample_csv[(df_sample_csv.lat>lat_start) & (df_sample_csv.lat<lat_start+2*increment) & (df_sample_csv.lon>lon_start) & (df_sample_csv.lon<lon_start+2*increment)])"
   ]
  }
 ],
 "metadata": {
  "kernelspec": {
   "display_name": "travel-home-env",
   "language": "python",
   "name": "python3"
  },
  "language_info": {
   "codemirror_mode": {
    "name": "ipython",
    "version": 3
   },
   "file_extension": ".py",
   "mimetype": "text/x-python",
   "name": "python",
   "nbconvert_exporter": "python",
   "pygments_lexer": "ipython3",
   "version": "3.10.6"
  },
  "orig_nbformat": 4
 },
 "nbformat": 4,
 "nbformat_minor": 2
}
