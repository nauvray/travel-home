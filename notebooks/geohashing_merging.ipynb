{
 "cells": [
  {
   "cell_type": "markdown",
   "metadata": {},
   "source": [
    "# Geohashing the map and merging"
   ]
  },
  {
   "cell_type": "markdown",
   "metadata": {},
   "source": [
    "\n",
    "-5 et 10 en longitude\n",
    "42 et 52 en latitude\n"
   ]
  },
  {
   "cell_type": "code",
   "execution_count": 1,
   "metadata": {},
   "outputs": [],
   "source": [
    "import numpy as np\n",
    "import pandas as pd"
   ]
  },
  {
   "cell_type": "code",
   "execution_count": 81,
   "metadata": {},
   "outputs": [],
   "source": [
    "increment = 0.01\n",
    "lat_start = 42\n",
    "lat_end = 52\n",
    "lon_start = -5\n",
    "lon_end = 10\n",
    "threshold = 5\n",
    "# lon = lon_start\n",
    "# lat = lat_start\n",
    "cell_list=[]\n",
    "x=lon_start\n",
    "y=lat_start\n",
    "index_x=0\n",
    "index_y=0\n",
    "for index_y in range(int((lat_end-lat_start)/increment)):\n",
    "    for index_x in range(int((lon_end-lon_start)/increment)):\n",
    "        cell_list.append(f'{index_x}_{index_y}')\n",
    "    index_x=0"
   ]
  },
  {
   "cell_type": "code",
   "execution_count": 82,
   "metadata": {},
   "outputs": [
    {
     "data": {
      "text/plain": [
       "(1500000,)"
      ]
     },
     "execution_count": 82,
     "metadata": {},
     "output_type": "execute_result"
    }
   ],
   "source": [
    "cell_np=np.array(cell_list)\n",
    "cell_np.shape"
   ]
  },
  {
   "cell_type": "code",
   "execution_count": 85,
   "metadata": {},
   "outputs": [],
   "source": [
    "def load_sample_csv(path:str) ->pd.DataFrame:\n",
    "    df_sample_csv=pd.read_csv(path)\n",
    "    df_sample_csv['cellid']='_'\n",
    "    df_sample_csv['count']=1\n",
    "    df_sample_csv['zoom']=1\n",
    "    return df_sample_csv\n",
    "\n",
    "df_sample_csv=load_sample_csv('../00-data/data_csv/meta_shard_0.csv')"
   ]
  },
  {
   "cell_type": "code",
   "execution_count": 86,
   "metadata": {},
   "outputs": [
    {
     "data": {
      "text/html": [
       "<div>\n",
       "<style scoped>\n",
       "    .dataframe tbody tr th:only-of-type {\n",
       "        vertical-align: middle;\n",
       "    }\n",
       "\n",
       "    .dataframe tbody tr th {\n",
       "        vertical-align: top;\n",
       "    }\n",
       "\n",
       "    .dataframe thead th {\n",
       "        text-align: right;\n",
       "    }\n",
       "</style>\n",
       "<table border=\"1\" class=\"dataframe\">\n",
       "  <thead>\n",
       "    <tr style=\"text-align: right;\">\n",
       "      <th></th>\n",
       "      <th>img</th>\n",
       "      <th>lat</th>\n",
       "      <th>lon</th>\n",
       "      <th>data</th>\n",
       "      <th>cellid</th>\n",
       "      <th>count</th>\n",
       "      <th>zoom</th>\n",
       "    </tr>\n",
       "  </thead>\n",
       "  <tbody>\n",
       "    <tr>\n",
       "      <th>0</th>\n",
       "      <td>a6_c4_3038144879.jpg</td>\n",
       "      <td>48.857599</td>\n",
       "      <td>2.337684</td>\n",
       "      <td>ffd8ffe000104a46494600010100000100010000ffdb00...</td>\n",
       "      <td>_</td>\n",
       "      <td>1</td>\n",
       "      <td>1</td>\n",
       "    </tr>\n",
       "    <tr>\n",
       "      <th>1</th>\n",
       "      <td>a7_00_2633379373.jpg</td>\n",
       "      <td>45.875802</td>\n",
       "      <td>0.175330</td>\n",
       "      <td>ffd8ffe000104a46494600010100000100010000ffdb00...</td>\n",
       "      <td>_</td>\n",
       "      <td>1</td>\n",
       "      <td>1</td>\n",
       "    </tr>\n",
       "    <tr>\n",
       "      <th>2</th>\n",
       "      <td>03_2e_4493999629.jpg</td>\n",
       "      <td>50.940437</td>\n",
       "      <td>6.870537</td>\n",
       "      <td>ffd8ffe000104a46494600010100000100010000ffdb00...</td>\n",
       "      <td>_</td>\n",
       "      <td>1</td>\n",
       "      <td>1</td>\n",
       "    </tr>\n",
       "    <tr>\n",
       "      <th>3</th>\n",
       "      <td>c6_12_3073882997.jpg</td>\n",
       "      <td>51.493608</td>\n",
       "      <td>7.451820</td>\n",
       "      <td>ffd8ffe000104a46494600010100000100010000ffdb00...</td>\n",
       "      <td>_</td>\n",
       "      <td>1</td>\n",
       "      <td>1</td>\n",
       "    </tr>\n",
       "    <tr>\n",
       "      <th>4</th>\n",
       "      <td>0d_1d_3586372001.jpg</td>\n",
       "      <td>43.909642</td>\n",
       "      <td>5.197563</td>\n",
       "      <td>ffd8ffe000104a46494600010100000100010000ffdb00...</td>\n",
       "      <td>_</td>\n",
       "      <td>1</td>\n",
       "      <td>1</td>\n",
       "    </tr>\n",
       "    <tr>\n",
       "      <th>...</th>\n",
       "      <td>...</td>\n",
       "      <td>...</td>\n",
       "      <td>...</td>\n",
       "      <td>...</td>\n",
       "      <td>...</td>\n",
       "      <td>...</td>\n",
       "      <td>...</td>\n",
       "    </tr>\n",
       "    <tr>\n",
       "      <th>4703</th>\n",
       "      <td>ac_a1_4171737184.jpg</td>\n",
       "      <td>51.635791</td>\n",
       "      <td>-0.106115</td>\n",
       "      <td>ffd8ffe000104a46494600010100000100010000ffdb00...</td>\n",
       "      <td>_</td>\n",
       "      <td>1</td>\n",
       "      <td>1</td>\n",
       "    </tr>\n",
       "    <tr>\n",
       "      <th>4704</th>\n",
       "      <td>07_a4_4360452150.jpg</td>\n",
       "      <td>49.076782</td>\n",
       "      <td>2.179498</td>\n",
       "      <td>ffd8ffe000104a46494600010100000100010000ffdb00...</td>\n",
       "      <td>_</td>\n",
       "      <td>1</td>\n",
       "      <td>1</td>\n",
       "    </tr>\n",
       "    <tr>\n",
       "      <th>4705</th>\n",
       "      <td>78_76_3676267394.jpg</td>\n",
       "      <td>51.910622</td>\n",
       "      <td>4.473302</td>\n",
       "      <td>ffd8ffe000104a46494600010100000100010000ffdb00...</td>\n",
       "      <td>_</td>\n",
       "      <td>1</td>\n",
       "      <td>1</td>\n",
       "    </tr>\n",
       "    <tr>\n",
       "      <th>4706</th>\n",
       "      <td>34_6c_6424789109.jpg</td>\n",
       "      <td>44.755144</td>\n",
       "      <td>5.332853</td>\n",
       "      <td>ffd8ffe000104a46494600010100000100010000ffdb00...</td>\n",
       "      <td>_</td>\n",
       "      <td>1</td>\n",
       "      <td>1</td>\n",
       "    </tr>\n",
       "    <tr>\n",
       "      <th>4707</th>\n",
       "      <td>2b_ba_2806492503.jpg</td>\n",
       "      <td>50.727260</td>\n",
       "      <td>-1.864371</td>\n",
       "      <td>ffd8ffe000104a46494600010100000100010000ffdb00...</td>\n",
       "      <td>_</td>\n",
       "      <td>1</td>\n",
       "      <td>1</td>\n",
       "    </tr>\n",
       "  </tbody>\n",
       "</table>\n",
       "<p>4708 rows × 7 columns</p>\n",
       "</div>"
      ],
      "text/plain": [
       "                       img        lat       lon  \\\n",
       "0     a6_c4_3038144879.jpg  48.857599  2.337684   \n",
       "1     a7_00_2633379373.jpg  45.875802  0.175330   \n",
       "2     03_2e_4493999629.jpg  50.940437  6.870537   \n",
       "3     c6_12_3073882997.jpg  51.493608  7.451820   \n",
       "4     0d_1d_3586372001.jpg  43.909642  5.197563   \n",
       "...                    ...        ...       ...   \n",
       "4703  ac_a1_4171737184.jpg  51.635791 -0.106115   \n",
       "4704  07_a4_4360452150.jpg  49.076782  2.179498   \n",
       "4705  78_76_3676267394.jpg  51.910622  4.473302   \n",
       "4706  34_6c_6424789109.jpg  44.755144  5.332853   \n",
       "4707  2b_ba_2806492503.jpg  50.727260 -1.864371   \n",
       "\n",
       "                                                   data cellid  count  zoom  \n",
       "0     ffd8ffe000104a46494600010100000100010000ffdb00...      _      1     1  \n",
       "1     ffd8ffe000104a46494600010100000100010000ffdb00...      _      1     1  \n",
       "2     ffd8ffe000104a46494600010100000100010000ffdb00...      _      1     1  \n",
       "3     ffd8ffe000104a46494600010100000100010000ffdb00...      _      1     1  \n",
       "4     ffd8ffe000104a46494600010100000100010000ffdb00...      _      1     1  \n",
       "...                                                 ...    ...    ...   ...  \n",
       "4703  ffd8ffe000104a46494600010100000100010000ffdb00...      _      1     1  \n",
       "4704  ffd8ffe000104a46494600010100000100010000ffdb00...      _      1     1  \n",
       "4705  ffd8ffe000104a46494600010100000100010000ffdb00...      _      1     1  \n",
       "4706  ffd8ffe000104a46494600010100000100010000ffdb00...      _      1     1  \n",
       "4707  ffd8ffe000104a46494600010100000100010000ffdb00...      _      1     1  \n",
       "\n",
       "[4708 rows x 7 columns]"
      ]
     },
     "execution_count": 86,
     "metadata": {},
     "output_type": "execute_result"
    }
   ],
   "source": [
    "df_sample_csv"
   ]
  },
  {
   "cell_type": "code",
   "execution_count": 83,
   "metadata": {},
   "outputs": [
    {
     "ename": "SyntaxError",
     "evalue": "closing parenthesis ']' does not match opening parenthesis '(' on line 8 (639562120.py, line 10)",
     "output_type": "error",
     "traceback": [
      "\u001b[0;36m  Cell \u001b[0;32mIn[83], line 10\u001b[0;36m\u001b[0m\n\u001b[0;31m    (df_sample_csv.lon<round(lon+increment,2))])<threshold:\u001b[0m\n\u001b[0m                                              ^\u001b[0m\n\u001b[0;31mSyntaxError\u001b[0m\u001b[0;31m:\u001b[0m closing parenthesis ']' does not match opening parenthesis '(' on line 8\n"
     ]
    }
   ],
   "source": [
    "lon=lon_start\n",
    "lat=lat_start\n",
    "\n",
    "# Unfinished worked to create a hashing and check that each cell contains enough photos\n",
    "\n",
    "for index_y in range(int((lat_end-lat_start)/increment)):\n",
    "    for index_x in range(int((lon_end-lon_start)/increment)):\n",
    "        if f'{index_x}_{index_y}' in cell_np:\n",
    "            cell_np = np.delete(cell_np, np.where(cell_np == f'{x}_{y}'))\n",
    "            if len(df_sample_csv[(df_sample_csv.lat>lat) & \n",
    "                                (df_sample_csv.lat<round(lat+increment,2) & \n",
    "                                (df_sample_csv.lon>lon) & \n",
    "                                (df_sample_csv.lon<round(lon+increment,2))])<threshold:\n",
    "                if len(df_sample_csv[(df_sample_csv.lat>lat) & \n",
    "                                (df_sample_csv.lat<round(lat+2*increment,2)) & \n",
    "                                (df_sample_csv.lon>lon) & \n",
    "                                (df_sample_csv.lon<round(lon+increment,2)])<threshold:\n",
    "                    if len(df_sample_csv[(df_sample_csv.lat>lat) & \n",
    "                                    (df_sample_csv.lat<round(lat+2*increment,2)) & \n",
    "                                    (df_sample_csv.lon>lon) & \n",
    "                                    (df_sample_csv.lon<round(lon+2*increment,2)])<threshold:\n",
    "                    \n",
    "                    y+=1\n",
    "                    lat+=increment\n",
    "                    index=index+f'{x}_{y}'\n",
    "            else:\n",
    "                name = nam\n",
    "                next"
   ]
  },
  {
   "cell_type": "code",
   "execution_count": null,
   "metadata": {},
   "outputs": [],
   "source": [
    "          \n",
    "increment=1\n",
    "df_sample_csv[(df_sample_csv.lat>lat_start) & (df_sample_csv.lat<lat_start+increment) & (df_sample_csv.lon>lon_start) & (df_sample_csv.lon<lon_start+increment)]\n",
    "df_sample_csv[(df_sample_csv.lat>lat_start) & (df_sample_csv.lat<lat_start+2*increment) & (df_sample_csv.lon>lon_start) & (df_sample_csv.lon<lon_start+increment)]\n",
    "len(df_sample_csv[(df_sample_csv.lat>lat_start) & (df_sample_csv.lat<lat_start+2*increment) & (df_sample_csv.lon>lon_start) & (df_sample_csv.lon<lon_start+2*increment)])"
   ]
  },
  {
   "cell_type": "code",
   "execution_count": 8,
   "metadata": {},
   "outputs": [
    {
     "name": "stdout",
     "output_type": "stream",
     "text": [
      "File 1\n",
      "File 2\n",
      "File 3\n",
      "File 4\n",
      "File 5\n",
      "File 6\n",
      "File 7\n",
      "File 8\n",
      "File 9\n",
      "File 10\n",
      "File 11\n",
      "File 12\n",
      "File 13\n",
      "File 14\n",
      "File 15\n",
      "File 16\n",
      "File 17\n",
      "File 18\n",
      "File 19\n"
     ]
    },
    {
     "ename": "KeyboardInterrupt",
     "evalue": "",
     "output_type": "error",
     "traceback": [
      "\u001b[0;31m---------------------------------------------------------------------------\u001b[0m",
      "\u001b[0;31mKeyboardInterrupt\u001b[0m                         Traceback (most recent call last)",
      "Cell \u001b[0;32mIn[8], line 7\u001b[0m\n\u001b[1;32m      5\u001b[0m \u001b[39melse\u001b[39;00m:\n\u001b[1;32m      6\u001b[0m     \u001b[39mprint\u001b[39m(\u001b[39mf\u001b[39m\u001b[39m'\u001b[39m\u001b[39mFile \u001b[39m\u001b[39m{\u001b[39;00mi\u001b[39m}\u001b[39;00m\u001b[39m'\u001b[39m)\n\u001b[0;32m----> 7\u001b[0m     df_temp \u001b[39m=\u001b[39m pd\u001b[39m.\u001b[39;49mread_csv(\u001b[39mf\u001b[39;49m\u001b[39m'\u001b[39;49m\u001b[39mgs://travel-home-bucket/data_csv/data_csv_hashed/meta_shard_\u001b[39;49m\u001b[39m{\u001b[39;49;00mi\u001b[39m}\u001b[39;49;00m\u001b[39m.csv\u001b[39;49m\u001b[39m'\u001b[39;49m)\n\u001b[1;32m      8\u001b[0m     df_temp \u001b[39m=\u001b[39m df_temp\u001b[39m.\u001b[39mdrop(columns\u001b[39m=\u001b[39m[\u001b[39m'\u001b[39m\u001b[39mdata\u001b[39m\u001b[39m'\u001b[39m])\n\u001b[1;32m      9\u001b[0m     df_cellid \u001b[39m=\u001b[39m pd\u001b[39m.\u001b[39mconcat([df_cellid,df_temp],axis\u001b[39m=\u001b[39m\u001b[39m0\u001b[39m)\n",
      "File \u001b[0;32m~/.pyenv/versions/3.10.6/envs/travel-home-env/lib/python3.10/site-packages/pandas/util/_decorators.py:211\u001b[0m, in \u001b[0;36mdeprecate_kwarg.<locals>._deprecate_kwarg.<locals>.wrapper\u001b[0;34m(*args, **kwargs)\u001b[0m\n\u001b[1;32m    209\u001b[0m     \u001b[39melse\u001b[39;00m:\n\u001b[1;32m    210\u001b[0m         kwargs[new_arg_name] \u001b[39m=\u001b[39m new_arg_value\n\u001b[0;32m--> 211\u001b[0m \u001b[39mreturn\u001b[39;00m func(\u001b[39m*\u001b[39;49margs, \u001b[39m*\u001b[39;49m\u001b[39m*\u001b[39;49mkwargs)\n",
      "File \u001b[0;32m~/.pyenv/versions/3.10.6/envs/travel-home-env/lib/python3.10/site-packages/pandas/util/_decorators.py:331\u001b[0m, in \u001b[0;36mdeprecate_nonkeyword_arguments.<locals>.decorate.<locals>.wrapper\u001b[0;34m(*args, **kwargs)\u001b[0m\n\u001b[1;32m    325\u001b[0m \u001b[39mif\u001b[39;00m \u001b[39mlen\u001b[39m(args) \u001b[39m>\u001b[39m num_allow_args:\n\u001b[1;32m    326\u001b[0m     warnings\u001b[39m.\u001b[39mwarn(\n\u001b[1;32m    327\u001b[0m         msg\u001b[39m.\u001b[39mformat(arguments\u001b[39m=\u001b[39m_format_argument_list(allow_args)),\n\u001b[1;32m    328\u001b[0m         \u001b[39mFutureWarning\u001b[39;00m,\n\u001b[1;32m    329\u001b[0m         stacklevel\u001b[39m=\u001b[39mfind_stack_level(),\n\u001b[1;32m    330\u001b[0m     )\n\u001b[0;32m--> 331\u001b[0m \u001b[39mreturn\u001b[39;00m func(\u001b[39m*\u001b[39;49margs, \u001b[39m*\u001b[39;49m\u001b[39m*\u001b[39;49mkwargs)\n",
      "File \u001b[0;32m~/.pyenv/versions/3.10.6/envs/travel-home-env/lib/python3.10/site-packages/pandas/io/parsers/readers.py:950\u001b[0m, in \u001b[0;36mread_csv\u001b[0;34m(filepath_or_buffer, sep, delimiter, header, names, index_col, usecols, squeeze, prefix, mangle_dupe_cols, dtype, engine, converters, true_values, false_values, skipinitialspace, skiprows, skipfooter, nrows, na_values, keep_default_na, na_filter, verbose, skip_blank_lines, parse_dates, infer_datetime_format, keep_date_col, date_parser, dayfirst, cache_dates, iterator, chunksize, compression, thousands, decimal, lineterminator, quotechar, quoting, doublequote, escapechar, comment, encoding, encoding_errors, dialect, error_bad_lines, warn_bad_lines, on_bad_lines, delim_whitespace, low_memory, memory_map, float_precision, storage_options)\u001b[0m\n\u001b[1;32m    935\u001b[0m kwds_defaults \u001b[39m=\u001b[39m _refine_defaults_read(\n\u001b[1;32m    936\u001b[0m     dialect,\n\u001b[1;32m    937\u001b[0m     delimiter,\n\u001b[0;32m   (...)\u001b[0m\n\u001b[1;32m    946\u001b[0m     defaults\u001b[39m=\u001b[39m{\u001b[39m\"\u001b[39m\u001b[39mdelimiter\u001b[39m\u001b[39m\"\u001b[39m: \u001b[39m\"\u001b[39m\u001b[39m,\u001b[39m\u001b[39m\"\u001b[39m},\n\u001b[1;32m    947\u001b[0m )\n\u001b[1;32m    948\u001b[0m kwds\u001b[39m.\u001b[39mupdate(kwds_defaults)\n\u001b[0;32m--> 950\u001b[0m \u001b[39mreturn\u001b[39;00m _read(filepath_or_buffer, kwds)\n",
      "File \u001b[0;32m~/.pyenv/versions/3.10.6/envs/travel-home-env/lib/python3.10/site-packages/pandas/io/parsers/readers.py:611\u001b[0m, in \u001b[0;36m_read\u001b[0;34m(filepath_or_buffer, kwds)\u001b[0m\n\u001b[1;32m    608\u001b[0m     \u001b[39mreturn\u001b[39;00m parser\n\u001b[1;32m    610\u001b[0m \u001b[39mwith\u001b[39;00m parser:\n\u001b[0;32m--> 611\u001b[0m     \u001b[39mreturn\u001b[39;00m parser\u001b[39m.\u001b[39;49mread(nrows)\n",
      "File \u001b[0;32m~/.pyenv/versions/3.10.6/envs/travel-home-env/lib/python3.10/site-packages/pandas/io/parsers/readers.py:1778\u001b[0m, in \u001b[0;36mTextFileReader.read\u001b[0;34m(self, nrows)\u001b[0m\n\u001b[1;32m   1771\u001b[0m nrows \u001b[39m=\u001b[39m validate_integer(\u001b[39m\"\u001b[39m\u001b[39mnrows\u001b[39m\u001b[39m\"\u001b[39m, nrows)\n\u001b[1;32m   1772\u001b[0m \u001b[39mtry\u001b[39;00m:\n\u001b[1;32m   1773\u001b[0m     \u001b[39m# error: \"ParserBase\" has no attribute \"read\"\u001b[39;00m\n\u001b[1;32m   1774\u001b[0m     (\n\u001b[1;32m   1775\u001b[0m         index,\n\u001b[1;32m   1776\u001b[0m         columns,\n\u001b[1;32m   1777\u001b[0m         col_dict,\n\u001b[0;32m-> 1778\u001b[0m     ) \u001b[39m=\u001b[39m \u001b[39mself\u001b[39;49m\u001b[39m.\u001b[39;49m_engine\u001b[39m.\u001b[39;49mread(  \u001b[39m# type: ignore[attr-defined]\u001b[39;49;00m\n\u001b[1;32m   1779\u001b[0m         nrows\n\u001b[1;32m   1780\u001b[0m     )\n\u001b[1;32m   1781\u001b[0m \u001b[39mexcept\u001b[39;00m \u001b[39mException\u001b[39;00m:\n\u001b[1;32m   1782\u001b[0m     \u001b[39mself\u001b[39m\u001b[39m.\u001b[39mclose()\n",
      "File \u001b[0;32m~/.pyenv/versions/3.10.6/envs/travel-home-env/lib/python3.10/site-packages/pandas/io/parsers/c_parser_wrapper.py:230\u001b[0m, in \u001b[0;36mCParserWrapper.read\u001b[0;34m(self, nrows)\u001b[0m\n\u001b[1;32m    228\u001b[0m \u001b[39mtry\u001b[39;00m:\n\u001b[1;32m    229\u001b[0m     \u001b[39mif\u001b[39;00m \u001b[39mself\u001b[39m\u001b[39m.\u001b[39mlow_memory:\n\u001b[0;32m--> 230\u001b[0m         chunks \u001b[39m=\u001b[39m \u001b[39mself\u001b[39;49m\u001b[39m.\u001b[39;49m_reader\u001b[39m.\u001b[39;49mread_low_memory(nrows)\n\u001b[1;32m    231\u001b[0m         \u001b[39m# destructive to chunks\u001b[39;00m\n\u001b[1;32m    232\u001b[0m         data \u001b[39m=\u001b[39m _concatenate_chunks(chunks)\n",
      "File \u001b[0;32m~/.pyenv/versions/3.10.6/envs/travel-home-env/lib/python3.10/site-packages/pandas/_libs/parsers.pyx:808\u001b[0m, in \u001b[0;36mpandas._libs.parsers.TextReader.read_low_memory\u001b[0;34m()\u001b[0m\n",
      "File \u001b[0;32m~/.pyenv/versions/3.10.6/envs/travel-home-env/lib/python3.10/site-packages/pandas/_libs/parsers.pyx:866\u001b[0m, in \u001b[0;36mpandas._libs.parsers.TextReader._read_rows\u001b[0;34m()\u001b[0m\n",
      "File \u001b[0;32m~/.pyenv/versions/3.10.6/envs/travel-home-env/lib/python3.10/site-packages/pandas/_libs/parsers.pyx:852\u001b[0m, in \u001b[0;36mpandas._libs.parsers.TextReader._tokenize_rows\u001b[0;34m()\u001b[0m\n",
      "File \u001b[0;32m~/.pyenv/versions/3.10.6/envs/travel-home-env/lib/python3.10/site-packages/pandas/_libs/parsers.pyx:1965\u001b[0m, in \u001b[0;36mpandas._libs.parsers.raise_parser_error\u001b[0;34m()\u001b[0m\n",
      "File \u001b[0;32m~/.pyenv/versions/3.10.6/envs/travel-home-env/lib/python3.10/site-packages/gcsfs/core.py:1644\u001b[0m, in \u001b[0;36mGCSFile._fetch_range\u001b[0;34m(self, start, end)\u001b[0m\n\u001b[1;32m   1638\u001b[0m \u001b[39m\u001b[39m\u001b[39m\"\"\"Get data from GCS\u001b[39;00m\n\u001b[1;32m   1639\u001b[0m \n\u001b[1;32m   1640\u001b[0m \u001b[39mstart, end : None or integers\u001b[39;00m\n\u001b[1;32m   1641\u001b[0m \u001b[39m    if not both None, fetch only given range\u001b[39;00m\n\u001b[1;32m   1642\u001b[0m \u001b[39m\"\"\"\u001b[39;00m\n\u001b[1;32m   1643\u001b[0m \u001b[39mtry\u001b[39;00m:\n\u001b[0;32m-> 1644\u001b[0m     \u001b[39mreturn\u001b[39;00m \u001b[39mself\u001b[39;49m\u001b[39m.\u001b[39;49mgcsfs\u001b[39m.\u001b[39;49mcat_file(\u001b[39mself\u001b[39;49m\u001b[39m.\u001b[39;49mpath, start\u001b[39m=\u001b[39;49mstart, end\u001b[39m=\u001b[39;49mend)\n\u001b[1;32m   1645\u001b[0m \u001b[39mexcept\u001b[39;00m \u001b[39mRuntimeError\u001b[39;00m \u001b[39mas\u001b[39;00m e:\n\u001b[1;32m   1646\u001b[0m     \u001b[39mif\u001b[39;00m \u001b[39m\"\u001b[39m\u001b[39mnot satisfiable\u001b[39m\u001b[39m\"\u001b[39m \u001b[39min\u001b[39;00m \u001b[39mstr\u001b[39m(e):\n",
      "File \u001b[0;32m~/.pyenv/versions/3.10.6/envs/travel-home-env/lib/python3.10/site-packages/fsspec/asyn.py:115\u001b[0m, in \u001b[0;36msync_wrapper.<locals>.wrapper\u001b[0;34m(*args, **kwargs)\u001b[0m\n\u001b[1;32m    112\u001b[0m \u001b[39m@functools\u001b[39m\u001b[39m.\u001b[39mwraps(func)\n\u001b[1;32m    113\u001b[0m \u001b[39mdef\u001b[39;00m \u001b[39mwrapper\u001b[39m(\u001b[39m*\u001b[39margs, \u001b[39m*\u001b[39m\u001b[39m*\u001b[39mkwargs):\n\u001b[1;32m    114\u001b[0m     \u001b[39mself\u001b[39m \u001b[39m=\u001b[39m obj \u001b[39mor\u001b[39;00m args[\u001b[39m0\u001b[39m]\n\u001b[0;32m--> 115\u001b[0m     \u001b[39mreturn\u001b[39;00m sync(\u001b[39mself\u001b[39;49m\u001b[39m.\u001b[39;49mloop, func, \u001b[39m*\u001b[39;49margs, \u001b[39m*\u001b[39;49m\u001b[39m*\u001b[39;49mkwargs)\n",
      "File \u001b[0;32m~/.pyenv/versions/3.10.6/envs/travel-home-env/lib/python3.10/site-packages/fsspec/asyn.py:88\u001b[0m, in \u001b[0;36msync\u001b[0;34m(loop, func, timeout, *args, **kwargs)\u001b[0m\n\u001b[1;32m     85\u001b[0m asyncio\u001b[39m.\u001b[39mrun_coroutine_threadsafe(_runner(event, coro, result, timeout), loop)\n\u001b[1;32m     86\u001b[0m \u001b[39mwhile\u001b[39;00m \u001b[39mTrue\u001b[39;00m:\n\u001b[1;32m     87\u001b[0m     \u001b[39m# this loops allows thread to get interrupted\u001b[39;00m\n\u001b[0;32m---> 88\u001b[0m     \u001b[39mif\u001b[39;00m event\u001b[39m.\u001b[39;49mwait(\u001b[39m1\u001b[39;49m):\n\u001b[1;32m     89\u001b[0m         \u001b[39mbreak\u001b[39;00m\n\u001b[1;32m     90\u001b[0m     \u001b[39mif\u001b[39;00m timeout \u001b[39mis\u001b[39;00m \u001b[39mnot\u001b[39;00m \u001b[39mNone\u001b[39;00m:\n",
      "File \u001b[0;32m~/.pyenv/versions/3.10.6/lib/python3.10/threading.py:607\u001b[0m, in \u001b[0;36mEvent.wait\u001b[0;34m(self, timeout)\u001b[0m\n\u001b[1;32m    605\u001b[0m signaled \u001b[39m=\u001b[39m \u001b[39mself\u001b[39m\u001b[39m.\u001b[39m_flag\n\u001b[1;32m    606\u001b[0m \u001b[39mif\u001b[39;00m \u001b[39mnot\u001b[39;00m signaled:\n\u001b[0;32m--> 607\u001b[0m     signaled \u001b[39m=\u001b[39m \u001b[39mself\u001b[39;49m\u001b[39m.\u001b[39;49m_cond\u001b[39m.\u001b[39;49mwait(timeout)\n\u001b[1;32m    608\u001b[0m \u001b[39mreturn\u001b[39;00m signaled\n",
      "File \u001b[0;32m~/.pyenv/versions/3.10.6/lib/python3.10/threading.py:324\u001b[0m, in \u001b[0;36mCondition.wait\u001b[0;34m(self, timeout)\u001b[0m\n\u001b[1;32m    322\u001b[0m \u001b[39melse\u001b[39;00m:\n\u001b[1;32m    323\u001b[0m     \u001b[39mif\u001b[39;00m timeout \u001b[39m>\u001b[39m \u001b[39m0\u001b[39m:\n\u001b[0;32m--> 324\u001b[0m         gotit \u001b[39m=\u001b[39m waiter\u001b[39m.\u001b[39;49macquire(\u001b[39mTrue\u001b[39;49;00m, timeout)\n\u001b[1;32m    325\u001b[0m     \u001b[39melse\u001b[39;00m:\n\u001b[1;32m    326\u001b[0m         gotit \u001b[39m=\u001b[39m waiter\u001b[39m.\u001b[39macquire(\u001b[39mFalse\u001b[39;00m)\n",
      "\u001b[0;31mKeyboardInterrupt\u001b[0m: "
     ]
    }
   ],
   "source": [
    "for i in range(142):\n",
    "    if i == 0:\n",
    "        df_cellid = pd.read_csv(f'gs://travel-home-bucket/data_csv/data_csv_hashed/meta_shard_{i}.csv')\n",
    "        df_cellid.drop(columns=['data'])\n",
    "    else:\n",
    "        print(f'File {i}')\n",
    "        df_temp = pd.read_csv(f'gs://travel-home-bucket/data_csv/data_csv_hashed/meta_shard_{i}.csv')\n",
    "        df_temp = df_temp.drop(columns=['data'])\n",
    "        df_cellid = pd.concat([df_cellid,df_temp],axis=0)"
   ]
  }
 ],
 "metadata": {
  "kernelspec": {
   "display_name": "travel-home-env",
   "language": "python",
   "name": "python3"
  },
  "language_info": {
   "codemirror_mode": {
    "name": "ipython",
    "version": 3
   },
   "file_extension": ".py",
   "mimetype": "text/x-python",
   "name": "python",
   "nbconvert_exporter": "python",
   "pygments_lexer": "ipython3",
   "version": "3.10.6"
  },
  "orig_nbformat": 4
 },
 "nbformat": 4,
 "nbformat_minor": 2
}
